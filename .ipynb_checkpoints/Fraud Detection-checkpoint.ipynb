{
 "cells": [
  {
   "cell_type": "markdown",
   "metadata": {},
   "source": [
    "## Step by Step\n",
    "* Import dependences\n",
    "* Create global variables \n",
    "* Get train and test dataset from Kaggle [Kaggle Fraud Detection](https://www.kaggle.com/c/ieee-fraud-detection/data)\n",
    "* Reduce memory of dataset\n",
    "* Slipt dataset (fraud/normal)\n",
    "* Show graph comparing data\n",
    "* Separate dataset for training and validation\n",
    "* Create Logistic Model \n",
    "* Create the prediction"
   ]
  },
  {
   "cell_type": "markdown",
   "metadata": {},
   "source": [
    "### Import dependences"
   ]
  },
  {
   "cell_type": "code",
   "execution_count": 1,
   "metadata": {},
   "outputs": [],
   "source": [
    "import seaborn as sns\n",
    "import numpy as np\n",
    "import pandas as pd\n",
    "import matplotlib.pyplot as plt\n",
    "from sklearn.preprocessing import LabelEncoder\n",
    "from tqdm import tqdm\n",
    "import reduce_mem;"
   ]
  },
  {
   "cell_type": "code",
   "execution_count": 2,
   "metadata": {},
   "outputs": [],
   "source": [
    "TRAINING_IDENTITY_CSV_PATH ='dataset/train_identity.csv'\n",
    "TRAINING_TRANSACTION_CSV_PATH ='dataset/train_transaction.csv'\n",
    "TEST_IDENTITY_CSV_PATH ='dataset/test_identity.csv'\n",
    "TEST_TRANSACTION_CSV_PATH ='dataset/test_transaction.csv'"
   ]
  },
  {
   "cell_type": "markdown",
   "metadata": {},
   "source": [
    "### Get train and test dataset from Kaggle [Kaggle Fraud Detection](https://www.kaggle.com/c/ieee-fraud-detection/data)"
   ]
  },
  {
   "cell_type": "code",
   "execution_count": 3,
   "metadata": {},
   "outputs": [
    {
     "data": {
      "text/plain": [
       "(590540, 434)"
      ]
     },
     "execution_count": 3,
     "metadata": {},
     "output_type": "execute_result"
    }
   ],
   "source": [
    "df_train_identity = pd.read_csv(TRAINING_IDENTITY_CSV_PATH)\n",
    "df_train_transaction = pd.read_csv(TRAINING_TRANSACTION_CSV_PATH)\n",
    "df_train = pd.merge(df_train_transaction, df_train_identity, on='TransactionID', how='left')\n",
    "df_train.shape"
   ]
  },
  {
   "cell_type": "code",
   "execution_count": 1,
   "metadata": {},
   "outputs": [
    {
     "ename": "NameError",
     "evalue": "name 'pd' is not defined",
     "output_type": "error",
     "traceback": [
      "\u001b[1;31m---------------------------------------------------------------------------\u001b[0m",
      "\u001b[1;31mNameError\u001b[0m                                 Traceback (most recent call last)",
      "\u001b[1;32m<ipython-input-1-9f6e79efed86>\u001b[0m in \u001b[0;36m<module>\u001b[1;34m()\u001b[0m\n\u001b[1;32m----> 1\u001b[1;33m \u001b[0mdf_test_identity\u001b[0m \u001b[1;33m=\u001b[0m \u001b[0mpd\u001b[0m\u001b[1;33m.\u001b[0m\u001b[0mread_csv\u001b[0m\u001b[1;33m(\u001b[0m\u001b[0mTEST_IDENTITY_CSV_PATH\u001b[0m\u001b[1;33m)\u001b[0m\u001b[1;33m\u001b[0m\u001b[0m\n\u001b[0m\u001b[0;32m      2\u001b[0m \u001b[0mdf_test_transaction\u001b[0m \u001b[1;33m=\u001b[0m \u001b[0mpd\u001b[0m\u001b[1;33m.\u001b[0m\u001b[0mread_csv\u001b[0m\u001b[1;33m(\u001b[0m\u001b[0mTEST_TRANSACTION_CSV_PATH\u001b[0m\u001b[1;33m)\u001b[0m\u001b[1;33m\u001b[0m\u001b[0m\n\u001b[0;32m      3\u001b[0m \u001b[1;33m\u001b[0m\u001b[0m\n\u001b[0;32m      4\u001b[0m \u001b[0mdf_test\u001b[0m \u001b[1;33m=\u001b[0m \u001b[0mpd\u001b[0m\u001b[1;33m.\u001b[0m\u001b[0mmerge\u001b[0m\u001b[1;33m(\u001b[0m\u001b[0mdf_test_transaction\u001b[0m\u001b[1;33m,\u001b[0m \u001b[0mdf_test_identity\u001b[0m\u001b[1;33m,\u001b[0m \u001b[0mon\u001b[0m\u001b[1;33m=\u001b[0m\u001b[1;34m'TransactionID'\u001b[0m\u001b[1;33m,\u001b[0m \u001b[0mhow\u001b[0m\u001b[1;33m=\u001b[0m\u001b[1;34m'left'\u001b[0m\u001b[1;33m)\u001b[0m\u001b[1;33m\u001b[0m\u001b[0m\n\u001b[0;32m      5\u001b[0m \u001b[0mdf_test\u001b[0m\u001b[1;33m.\u001b[0m\u001b[0mshape\u001b[0m\u001b[1;33m\u001b[0m\u001b[0m\n",
      "\u001b[1;31mNameError\u001b[0m: name 'pd' is not defined"
     ]
    }
   ],
   "source": [
    "df_test_identity = pd.read_csv(TEST_IDENTITY_CSV_PATH)\n",
    "df_test_transaction = pd.read_csv(TEST_TRANSACTION_CSV_PATH)\n",
    "\n",
    "df_test = pd.merge(df_test_transaction, df_test_identity, on='TransactionID', how='left')\n",
    "df_test.shape"
   ]
  },
  {
   "cell_type": "code",
   "execution_count": null,
   "metadata": {},
   "outputs": [],
   "source": []
  },
  {
   "cell_type": "code",
   "execution_count": null,
   "metadata": {},
   "outputs": [],
   "source": [
    "df_train_reduced_mem = reduce_mem.reduce_mem_usage(df_train)"
   ]
  },
  {
   "cell_type": "code",
   "execution_count": null,
   "metadata": {},
   "outputs": [],
   "source": [
    "df_test_reduced_mem = reduce_mem.reduce_mem_usage(df_test)"
   ]
  },
  {
   "cell_type": "code",
   "execution_count": null,
   "metadata": {},
   "outputs": [],
   "source": [
    "df_train = df_train_reduced_mem\n",
    "df_test = df_test_reduced_mem"
   ]
  },
  {
   "cell_type": "code",
   "execution_count": null,
   "metadata": {},
   "outputs": [],
   "source": [
    "null_percent = df_train.isnull().sum()/df_train.shape[0]*100\n",
    "\n",
    "cols_to_drop = np.array(null_percent[null_percent > 50].index)\n",
    "\n",
    "cols_to_drop"
   ]
  },
  {
   "cell_type": "code",
   "execution_count": null,
   "metadata": {},
   "outputs": [],
   "source": [
    "df_train = df_train.drop(cols_to_drop, axis=1)\n",
    "df_test = df_test.drop(cols_to_drop,axis=1)\n",
    "df_train.columns"
   ]
  },
  {
   "cell_type": "code",
   "execution_count": null,
   "metadata": {},
   "outputs": [],
   "source": [
    "null_cols = df_train.columns[df_train.isna().any()].tolist()\n",
    "\n",
    "for i in null_cols:\n",
    "    print('data type of {} is {}'.format(i, str(df_train[i].dtype)))\n",
    "    df_train[i] = df_train[i].replace(np.nan, df_train[i].mode()[0])\n",
    "    print('Filled the null values of column {}'.format(i))\n",
    "    print('--------------------------------------------')"
   ]
  },
  {
   "cell_type": "code",
   "execution_count": null,
   "metadata": {},
   "outputs": [],
   "source": [
    "null_cols = df_test.columns[df_test.isna().any()].tolist()\n",
    "\n",
    "for i in null_cols:\n",
    "    print('data type of {} is {}'.format(i, str(df_test[i].dtype)))\n",
    "    df_test[i] = df_test[i].replace(np.nan, df_test[i].mode()[0])\n",
    "    print('Filled the null values of column {}'.format(i))\n",
    "    print('--------------------------------------------')"
   ]
  },
  {
   "cell_type": "code",
   "execution_count": null,
   "metadata": {},
   "outputs": [],
   "source": [
    "df_train.head()"
   ]
  },
  {
   "cell_type": "code",
   "execution_count": null,
   "metadata": {},
   "outputs": [],
   "source": [
    "x_train = df_train.drop('isFraud', axis=1)\n",
    "y_train = df_train['isFraud']"
   ]
  },
  {
   "cell_type": "code",
   "execution_count": null,
   "metadata": {},
   "outputs": [],
   "source": [
    "cat_data = x_train.select_dtypes(include='object')\n",
    "num_data = x_train.select_dtypes(exclude='object')\n",
    "\n",
    "cat_cols = cat_data.columns.values\n",
    "num_cols = num_data.columns.values\n",
    "\n",
    "print('Categorical Columns : ',cat_cols)\n",
    "print('Numerical Columns : ',num_cols)"
   ]
  },
  {
   "cell_type": "code",
   "execution_count": null,
   "metadata": {},
   "outputs": [],
   "source": [
    "x_train['TransactionAmt'] = x_train['TransactionAmt'].apply(np.log)\n",
    "df_test['TransactionAmt'] = df_test['TransactionAmt'].apply(np.log)"
   ]
  },
  {
   "cell_type": "code",
   "execution_count": null,
   "metadata": {},
   "outputs": [],
   "source": [
    "for i in tqdm(cat_cols): \n",
    "    label = LabelEncoder()\n",
    "    label.fit(list(x_train[i].values)+list(df_test[i].values))\n",
    "    x_train[i] = label.transform(list(x_train[i].values))\n",
    "    df_test[i] = label.transform(list(df_test[i].values))"
   ]
  },
  {
   "cell_type": "code",
   "execution_count": null,
   "metadata": {},
   "outputs": [],
   "source": [
    "x_train.head()"
   ]
  },
  {
   "cell_type": "code",
   "execution_count": null,
   "metadata": {},
   "outputs": [],
   "source": [
    "fig = plt.figure(figsize=(20,15))\n",
    "\n",
    "j = 1\n",
    "for i in cat_cols:\n",
    "    if(i == 'P_emaildomain'):\n",
    "        continue\n",
    "    plt.subplot(3,3,j)\n",
    "    sns.countplot(x=x_train[i], palette='winter_r')\n",
    "    j = j + 1\n",
    "    \n",
    "plt.show()"
   ]
  },
  {
   "cell_type": "code",
   "execution_count": null,
   "metadata": {},
   "outputs": [],
   "source": [
    "sns.countplot(x=y_train, palette='gist_rainbow')\n",
    "plt.title('Fraud or Not')\n",
    "plt.show()"
   ]
  },
  {
   "cell_type": "code",
   "execution_count": null,
   "metadata": {},
   "outputs": [],
   "source": [
    "x_train = x_train.drop('TransactionDT', axis=1)\n",
    "df_test = df_test.drop('TransactionDT', axis=1)"
   ]
  },
  {
   "cell_type": "code",
   "execution_count": null,
   "metadata": {},
   "outputs": [],
   "source": [
    "#x_train_final = x_train[final_columns]\n",
    "#test_final = df_test[final_columns]\n",
    "x_train_final = x_train\n",
    "test_final = df_test\n",
    "print(test_final.shape)"
   ]
  },
  {
   "cell_type": "code",
   "execution_count": null,
   "metadata": {},
   "outputs": [],
   "source": [
    "from sklearn import linear_model\n",
    "filename = 'model.pkl'\n",
    "logistic_model = linear_model.LogisticRegression()  \n",
    "logistic_model.fit(x_train_final, y_train)\n",
    "import pickle\n",
    "pickle.dump(logistic_model, open(filename, 'wb'))"
   ]
  },
  {
   "cell_type": "code",
   "execution_count": null,
   "metadata": {},
   "outputs": [],
   "source": [
    "print(len(test_final.columns))\n",
    "print(len(x_train_final.columns))"
   ]
  },
  {
   "cell_type": "code",
   "execution_count": null,
   "metadata": {},
   "outputs": [],
   "source": [
    "logistic_predictions = logistic_model.predict(test_final)"
   ]
  },
  {
   "cell_type": "code",
   "execution_count": null,
   "metadata": {},
   "outputs": [],
   "source": [
    "sub = pd.read_csv('dataset/sample_submission.csv')\n",
    "sub['isFraud'] = logistic_predictions\n",
    "sub.head()"
   ]
  },
  {
   "cell_type": "code",
   "execution_count": null,
   "metadata": {},
   "outputs": [],
   "source": [
    "sub.to_csv('submission.csv', index=False)"
   ]
  },
  {
   "cell_type": "code",
   "execution_count": null,
   "metadata": {},
   "outputs": [],
   "source": []
  }
 ],
 "metadata": {
  "kernelspec": {
   "display_name": "Python 3",
   "language": "python",
   "name": "python3"
  }
 },
 "nbformat": 4,
 "nbformat_minor": 2
}
